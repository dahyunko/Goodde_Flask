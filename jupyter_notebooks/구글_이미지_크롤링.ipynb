{
  "cells": [
    {
      "cell_type": "code",
      "execution_count": null,
      "metadata": {
        "colab": {
          "base_uri": "https://localhost:8080/"
        },
        "id": "Dx7H3uO1Pvha",
        "outputId": "19aea3e5-c789-4643-ac5d-1ee52f06598e"
      },
      "outputs": [
        {
          "output_type": "stream",
          "name": "stdout",
          "text": [
            "Looking in indexes: https://pypi.org/simple, https://us-python.pkg.dev/colab-wheels/public/simple/\n",
            "Requirement already satisfied: selenium in /usr/local/lib/python3.7/dist-packages (4.6.1)\n",
            "Requirement already satisfied: urllib3[socks]~=1.26 in /usr/local/lib/python3.7/dist-packages (from selenium) (1.26.13)\n",
            "Requirement already satisfied: trio-websocket~=0.9 in /usr/local/lib/python3.7/dist-packages (from selenium) (0.9.2)\n",
            "Requirement already satisfied: trio~=0.17 in /usr/local/lib/python3.7/dist-packages (from selenium) (0.22.0)\n",
            "Requirement already satisfied: certifi>=2021.10.8 in /usr/local/lib/python3.7/dist-packages (from selenium) (2022.9.24)\n",
            "Requirement already satisfied: async-generator>=1.9 in /usr/local/lib/python3.7/dist-packages (from trio~=0.17->selenium) (1.10)\n",
            "Requirement already satisfied: sniffio in /usr/local/lib/python3.7/dist-packages (from trio~=0.17->selenium) (1.3.0)\n",
            "Requirement already satisfied: idna in /usr/local/lib/python3.7/dist-packages (from trio~=0.17->selenium) (2.10)\n",
            "Requirement already satisfied: exceptiongroup>=1.0.0rc9 in /usr/local/lib/python3.7/dist-packages (from trio~=0.17->selenium) (1.0.4)\n",
            "Requirement already satisfied: sortedcontainers in /usr/local/lib/python3.7/dist-packages (from trio~=0.17->selenium) (2.4.0)\n",
            "Requirement already satisfied: outcome in /usr/local/lib/python3.7/dist-packages (from trio~=0.17->selenium) (1.2.0)\n",
            "Requirement already satisfied: attrs>=19.2.0 in /usr/local/lib/python3.7/dist-packages (from trio~=0.17->selenium) (22.1.0)\n",
            "Requirement already satisfied: wsproto>=0.14 in /usr/local/lib/python3.7/dist-packages (from trio-websocket~=0.9->selenium) (1.2.0)\n",
            "Requirement already satisfied: PySocks!=1.5.7,<2.0,>=1.5.6 in /usr/local/lib/python3.7/dist-packages (from urllib3[socks]~=1.26->selenium) (1.7.1)\n",
            "Requirement already satisfied: h11<1,>=0.9.0 in /usr/local/lib/python3.7/dist-packages (from wsproto>=0.14->trio-websocket~=0.9->selenium) (0.14.0)\n",
            "Requirement already satisfied: typing-extensions in /usr/local/lib/python3.7/dist-packages (from h11<1,>=0.9.0->wsproto>=0.14->trio-websocket~=0.9->selenium) (4.1.1)\n"
          ]
        }
      ],
      "source": [
        "pip install selenium"
      ]
    },
    {
      "cell_type": "code",
      "execution_count": null,
      "metadata": {
        "colab": {
          "base_uri": "https://localhost:8080/"
        },
        "id": "rZixjZm8WYjB",
        "outputId": "f67cea5e-e61e-4200-d89f-b4363338465a"
      },
      "outputs": [
        {
          "output_type": "stream",
          "name": "stdout",
          "text": [
            "Looking in indexes: https://pypi.org/simple, https://us-python.pkg.dev/colab-wheels/public/simple/\n",
            "\u001b[31mERROR: Could not find a version that satisfies the requirement urllib (from versions: none)\u001b[0m\n",
            "\u001b[31mERROR: No matching distribution found for urllib\u001b[0m\n"
          ]
        }
      ],
      "source": [
        "pip install urllib"
      ]
    },
    {
      "cell_type": "code",
      "execution_count": null,
      "metadata": {
        "id": "xQOAiCF8Pi9_"
      },
      "outputs": [],
      "source": [
        "# 필요한 라이브러리 불러오기\n",
        "from selenium import webdriver\n",
        "from urllib.request import urlopen\n",
        "from selenium.webdriver.common.keys import Keys\n",
        "import time\n",
        "import urllib.request\n",
        "import os\n",
        "from selenium.common.exceptions import NoSuchElementException\n",
        "from selenium.common.exceptions import ElementNotVisibleException\n",
        "from selenium.webdriver.common.keys import Keys\n",
        "from selenium.webdriver.common.by import By"
      ]
    },
    {
      "cell_type": "code",
      "execution_count": null,
      "metadata": {
        "colab": {
          "base_uri": "https://localhost:8080/"
        },
        "id": "izh63iVicjnT",
        "outputId": "adeb3804-1264-49a4-a650-457ee247888c"
      },
      "outputs": [
        {
          "output_type": "stream",
          "name": "stdout",
          "text": [
            "Drive already mounted at /content/drive; to attempt to forcibly remount, call drive.mount(\"/content/drive\", force_remount=True).\n"
          ]
        }
      ],
      "source": [
        "from google.colab import drive\n",
        "drive.mount('/content/drive')"
      ]
    },
    {
      "cell_type": "code",
      "execution_count": null,
      "metadata": {
        "colab": {
          "base_uri": "https://localhost:8080/"
        },
        "id": "EKGn6BrTVI-3",
        "outputId": "ede0307f-2bc8-418e-fc87-1d68661dc9ec"
      },
      "outputs": [
        {
          "output_type": "stream",
          "name": "stdout",
          "text": [
            "Reading package lists... Done\n",
            "Building dependency tree       \n",
            "Reading state information... Done\n",
            "chromium-chromedriver is already the newest version (107.0.5304.87-0ubuntu11.18.04.1).\n",
            "The following package was automatically installed and is no longer required:\n",
            "  libnvidia-common-460\n",
            "Use 'apt autoremove' to remove it.\n",
            "0 upgraded, 0 newly installed, 0 to remove and 5 not upgraded.\n"
          ]
        }
      ],
      "source": [
        "!apt install chromium-chromedriver"
      ]
    },
    {
      "cell_type": "code",
      "execution_count": null,
      "metadata": {
        "colab": {
          "base_uri": "https://localhost:8080/"
        },
        "id": "7XJMQnpGUpbb",
        "outputId": "00435f09-94e1-4df8-9652-c4a490566c9d"
      },
      "outputs": [
        {
          "output_type": "stream",
          "name": "stderr",
          "text": [
            "/usr/local/lib/python3.7/dist-packages/ipykernel_launcher.py:6: DeprecationWarning: use options instead of chrome_options\n",
            "  \n"
          ]
        }
      ],
      "source": [
        "# 2. 크롬 웹드라이버 연결\n",
        "chrome_options = webdriver.ChromeOptions()\n",
        "chrome_options.add_argument('--headless')\n",
        "chrome_options.add_argument('--no-sandbox')\n",
        "chrome_options.add_argument('--disable-dev-shm-usage')\n",
        "driver = webdriver.Chrome(\"chromedriver\", chrome_options=chrome_options)\n",
        "driver.get(\"https://www.google.co.kr/imghp?hl=ko&ogbl\")"
      ]
    },
    {
      "cell_type": "code",
      "execution_count": null,
      "metadata": {
        "id": "4IbAJUb0VU0M"
      },
      "outputs": [],
      "source": [
        "# 3. 검색어 입력하기\n",
        "search = \"바다\"\n",
        "elem = driver.find_element(By.CSS_SELECTOR, '[name=\"q\"]')\n",
        "elem.send_keys(search)\n",
        "elem.send_keys(Keys.RETURN)"
      ]
    },
    {
      "cell_type": "code",
      "execution_count": null,
      "metadata": {
        "id": "eEWY-6pKVrd0"
      },
      "outputs": [],
      "source": [
        "# 4. 스크롤 끝까지 내리기\n",
        "SCROLL_PAUSE_TIME = 1\n",
        "\n",
        "last_height = driver.execute_script(\"return document.body.scrollHeight\")\n",
        "\n",
        "while True:\n",
        "    driver.execute_script(\"window.scrollTo(0, document.body.scrollHeight);\")\n",
        "    time.sleep(SCROLL_PAUSE_TIME)\n",
        "    new_height = driver.execute_script(\"return document.body.scrollHeight\")\n",
        "\n",
        "    if new_height == last_height:\n",
        "        try:\n",
        "            driver.find_element_by_css_selector(\".mye4qd\").click()\n",
        "        except:\n",
        "            break\n",
        "    last_height = new_height"
      ]
    },
    {
      "cell_type": "code",
      "execution_count": null,
      "metadata": {
        "colab": {
          "base_uri": "https://localhost:8080/"
        },
        "id": "_7xsYg8HXntn",
        "outputId": "b2bdc4d9-950e-400f-f6aa-68e45b9a27ae"
      },
      "outputs": [
        {
          "output_type": "stream",
          "name": "stdout",
          "text": [
            "https://post-phinf.pstatic.net/MjAxOTA4MjNfMTQy/MDAxNTY2NTM5Njk3MDc1.d-pxKdg0Ni8cppT3_g-TfaoL7eBjWdaQD7YsocRRpzIg.ftK-ZuCMq8X1Q-oeENQa5v1QdXPiSdNm7Gr8UuWdOJAg.JPEG/1%ED%99%94_%EB%B0%94%EB%8B%A4.jpg?type=w1200\n",
            "https://t1.daumcdn.net/thumb/R720x0/?fname=http://t1.daumcdn.net/brunch/service/user/5xq2/image/0lp8RLaJ2IgctTWVl2nEa-JRCSc.jpg\n",
            "https://cdn.newspenguin.com/news/photo/202206/11679_35032_2840.jpg\n",
            "https://img.freepik.com/free-photo/beautiful-tropical-empty-beach-sea-ocean-with-white-cloud-on-blue-sky-background_74190-13665.jpg?auto=format&h=200\n",
            "https://news.samsungdisplay.com/wp-content/uploads/2022/05/IT_twi001t1345955-1-1024x639.jpg\n",
            "https://src.hidoc.co.kr/image/lib/2022/7/20/1658306424525_0.jpg\n",
            "https://www.meteorologiaenred.com/wp-content/uploads/2020/09/caracteristicas-de-los-oceanos.jpg\n",
            "data:image/jpeg;base64,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\n",
            "https://post-phinf.pstatic.net/MjAyMDAzMTFfMTMg/MDAxNTgzOTEzOTM0NDUz.reBiU6WBmcDPTvDI-mS3_lDXK7PLos6N8GatUZV9H4wg.MQfywS5UmpCZ6Oi3QJIY0SZvTQo7YT9jRKHvUy0tQDAg.JPEG/00.jpg?type=w1200\n",
            "https://newsimg-hams.hankookilbo.com/2022/08/04/30deda9d-a4de-4397-971f-cda958ba47bc.jpg\n",
            "https://www.sciencetimes.co.kr/wp-content/uploads/2022/05/GettyImages-168731946.jpg\n",
            "https://newsimg.hankookilbo.com/cms/articlerelease/2021/10/11/7d43baac-4f90-4ed8-9553-9cf488b2eff9.jpg\n",
            "https://ichef.bbci.co.uk/news/640/cpsprodpb/DFCB/production/_104119275_gettyimages-513750122.jpg\n",
            "data:image/jpeg;base64,/9j/4AAQSkZJRgABAQAAAQABAAD/2wCEAAoHCBUVFRgWFBUZGBgYGBgYGBgYGhgYGBgYGBgZGRgYGRgcIS4lHCErIRgYJjgmKy8xNTU1GiQ7QDs0Py40NTEBDAwMEA8QHBISHzErJCE0NDQ0NDQ0NDQ0NDQ0NDQ0NDQ0NDQ0NDQ0NDQ0NDQ0NDQ0NDQ0NDQ0NDQxNDQ0NDQ0NP/AABEIAMIBAwMBIgACEQEDEQH/xAAbAAACAwEBAQAAAAAAAAAAAAABAgADBAUGB//EADsQAAICAAQCBwYEBQQDAQAAAAECABEDEiExBEEFIlFhcYGREzJSobHBQtHh8BRicoKSBiMzohWy8cL/xAAaAQEBAQEBAQEAAAAAAAAAAAABAAIDBAUG/8QAIhEAAgICAwEBAAMBAAAAAAAAAAECERIhMUFRAxMEIrFh/9oADAMBAAIRAxEAPwBWiGWMJMs/QHx0iupKmhMMHnCcAcjKxooqECXDhm2AgbCYbgiVoqEAjAQgQgSIAEMNQ1AgQiQCOBAiCNIBDAgQiGoQJEQSSSTJBEcRRGEiCI0AjAQNBEZYAI4ECCI6xRCJliaF4lu2aeExBfW5zBUdGraYcU0bUqZ2eLxQE0O8yYnHsVyjSZGxSdzEmYwS5NSm3wWphEi/vvNOHxJWxMyvFLRavkynXB0sPi6A1knMuGGCNZs81JUepKntPMQQgyVDUhCmIRtH9o3bKwIwEKRWCocsMNSIUJ3yFIwEdVlZFYEcCNkkqFgCoakqECRAAhqECGpECSo1QgTIgAjAQgQgSZEAjASARwJkgARwJAIagaGRbMu9iCdNZQJfh4hW656TMrFUKzRRHaoAICSoVW4UHbLGYfhHmd4Nkisiczj+neHwbD4i5h+FTmb0G3nOq5ueL43/AEKMXHxMRsbIjuWCItt1qLWxNDW+RmZOVf1NwUb/ALC4n+vsIE1hsRy1A+0k34f+g+CAFoxPMl2s+OWh6STFfT065fLwuqSpblkCz3WeKivLDllmWTLKyEyw1HCyVKyFqSo1QhZWQoEIEYLHCwsgCQiMFj+zPZCyKgsOWPUkbISoajVIBCyABCBGAjBYWQgEYCOFhCwsRQIwEYLGywbIAEgENQ1A0ACMBIBGAgQAIwENQgQEAEaoakqAgqGoQIagIuWSNUMiOFlkyyzLDlnos5FYWNUeocsrIrCyFZZUlSsivLCFjhYwWVgIFjqI6rCFmWxECzY+CMtqDtKCsuTFIFXMyvoVXZkKwZZcVkyzVmSnLGCy0JLEwCeUHJCkygLGCzUeFreVZIZJi4tFYWELLkwyTQl38OeyDkiUWzOiy9sDS9IwStxUAMw34bSrkrGDI2CRLVciRmJlbKkVZJMsepKjZUIFjVHyyVCxoSocscLDULKhKhqPUgErKhKkllSSsqOLUOWWlZKnWzGImWELHCw5ZZFiV5ZMssyyBZWFCBY2WOFjVLIqKwsmWWVCFhZUIFlgQRkwyZcvDGDkhUWzLUuVARqa8o5w6luDgg85ly0ajF3RWqIO0zSjn4K8pY3C8wRItHS5zckzqoNFDox/YlPsTz0m84a82v1isqDbfzkpFKAcHDRR3nwhZ+8Sov3Q6c/QQrtleqRU6k8vlEGEeyaTimqGkqJmk2ZaQvse+M2Go535QSVLYaEKyVHKyZY2FC1Blj1DULGhQJKj1JUrGhakyxwIahY0Jlhj5ZJWVHGyyAS24DOmQYiiGoTIJWZoAEcCARxKyoAENQgQysqBUKrCBHELKgrpHzntiCMBAbZDCmm0gEdYNki5HPO4bXsMUOe2AzFHWyM0AhqGomSnGcIpY7KCx8ALMeo7ICCDsdD4HeZuAfqJmOpUD+5RTjyIMrCi7LJlj1DllZUV5YcsepKlY4iZZKj1BULGhahqNUlSsqFqECNlhqFjQgENRwIypcrFREqSXezHbJDJGsGedzQ5pxB0yfgH+X6Rx0wfg/7fpPX+cvDzfrH07OeG5x16YHwH1H5Rh0yvwN6iH5y8L9Y+nZVoQ05C9Mp8D/8AX8446YT4X9F/OH5y8L9Y+nWDCEGcsdL4f83oPzjDpfC7T6Qwl4X6R9R1BUacwdK4faf8THHSmH8R/wAW/KGMvCzj6joiMJzk6Uwvi/6t+UtXpDD+MfP8pYy8LKPptEcTEOOw/jX1jjjU+NfUTLi/DSlH02CGZ14pPjX/ACEYY6fEvqJmmatF4kLAEAkWdheprsiDEX4h6iZelW/2nKi2VWYVvoNarnVwdmlRvqUdHotOp3XEcjuzMXFeTfOcrpjImG5w8XIVw2YDO42GnVzAC7AvvnBxf9RYwfE9hi4LDMWzFS2YKjHMMpoLlw1APMsvbMNs6KKPeESTw/8Apz/UWPxALvjYKqcoXOtWzEgLS0RZHMncT1+HiOHCOVsqzdUMPdKjYnbrfSSdg40zVUlQXBcQCBJlguS4DSLci9siADfWV3JcDWi/qnlAyCV3Dnhs1oYII9CVZ4c8NjotuCJmkkR8zB7QPLWQledfL8pnd3HK/DWOGarah/VV/KfWPiWXqwOwWvH9ZYUG4X6GZUxAN2FeFeliBscA6l2HZlGnnIrNFA8sprsu/wB+EcIvZfia+VTI3FofwHx0PyMCcUfLwB/KQWjacEV2RRlG+uvnELnSqP8AaL9CZEJrav7T9mkBpCL2Hx1+dRhhpzNaXzEozVspPgdPQmBWetvGxr94bG0a0RK3vzqNkTkb5c/sJSrmhmKj0HyMTEYVuP8AFTv3w2Vrw0nCHLU8t/vCiA6a+en1OszcNig6NWm1GvmDNTK1DKfufz+cGyVPYcnYCe3y7I6YVjq633yp1sjUZvHKfnHUfytrvs3mDmv1mWx0WDhtdbruIs9tTWMThwp1xQa0AUC+4m6qc13y8n8BQ9a1+sCHNoAde3n619JmUcuTUfoovR5bF6OPt86O+GuaxaF8mWlFHMM2i/rPRcF0EGzE8dghitdbBUFh8LF1Pnvv5y/EwiByHbVflM6YQBPX8dL9TOL/AI6e06PVH+ZKOmrB/wCCw06y8RgMxHWVc9Ek2aCqFHbsJrwOHD4vtHcK5UKHIbQa6WSKHWPrFVEAvUmiSBeXlVE85mZ7Ot+Nk+m0o/BLth9P5bkqpbO4FZfex25+7bf/AKBmZ+KcEdfE8Tf5zCeIYDqWB/Ne3jci4y/iOUkbqx3+07KHp5s74ZtXjsS69ofCzf1jDpDE+NpzkxipsHP/AHix28vzl3tGYba95UV6RcV4ajOXrNw6TxOTn0ErxOPxDviOO4UPoJQcV71ynu1+5hOJepGXyJ27toYx8NqcvWM3GYlf8r+R1+l+sn8bi6f72Ia/p+fV1lTMdj9x9BJnP4tvGzp4i4Yx8FfSfpd/5HFO+I2ngPpVy49KYpFF/QAHTlYmEcQBoV8zf5wJiC9/Q/mJn8ovo0vtP06P8dj/ABn/ABkmPOO39+sEvyj4P7T9OEAOTk+Gb7QezGtV4kG5jXEbsv1lqljyXzBv6z1Hhs1o4XdiPkPS4r8Sh7/7d5QMIn8A9DIMFj+H/wBfuJDZYcVfh+ZH2ipiUfdPnR+dQpw7cqHiBCnDEnUi/wCkCVhTLxiv2ESw5zqK89T6zNlVD12YiWZ0/CreIFj7yEgd+/yao3+5z+ZH5GW4WKa1UnsoDb5S9ab8LAc72oCzvpymWxUb7M+EuvWy+eUfSXKybA69wBr0EycU6X1FBruAHjqLgTjm2+mnhv8AaXIWlo6LAdx5/wD2Oj8iF8Dl9dzOZ/EMeRHfv8zK2Y3Ysnvv7QaDJLg75CDQKL3oV+/pKl1JAYj5j6mYcLjhs6136389IX4hTqq340QfED7zNGnKLOkbI1vyAHz/AFleg0DMT3hiB4mpiweMZQQANTY3FVoQADVH7S/+IZhsdNCQxA12sQ2X9WXti15+XyMV7Iu/I6iZS5F2DY5FmvffXy9YzcTWhFHu/eo31kOuzSHZdqrsBNeQ5SPik65B3nf5TI+MCNCfA6fOZl4t1NFQR4tfqSYg3FHSzr2KO4g2fpUfITRUqNdRRs1MQxleq0Pwn7Nz+sV3YHrD5Aj6Q2aWLN+PgdwPeNRroOVzBiYXaRY8vylqcU3Y1abXWgrYGWjFDHWxQ0za149klaNUnwZwhrRvLNIyONd+XbLCRdCj5iR2y7J9IjiIMV1qrFd1+decV+Kc6BvUD6y5HusysCTs1Za7jqbuBsO9vqPpVw0NMrTiTzGo7Car5yw8Sp95PMEfStZS6Acj8gAfWFcXSiLvwrbtuQpMf2qfsfrJB7Vfhb/qZIWJyULfhT6Szr8zl8vtUC4S82I/uh9qg5knwv5ztZ5kisqx3dq/xhUKNs58TY+ekb2hOyN6KJaSx/DXkT+kBorV3O2g7iDI2CD7135n9IHcrzbz0HoB94n8b3E/4gfSROuy5WC6LZP75AxQXc8hW/ukjyAifxVDUV4m/kBKn45joAAP3y2EmwtG/wBrlGpJPK8o+guUYTs7hWLEMQKQAnU1oLr1/OYc55/OdroLjsha8pzVmtb0pqGYMCNddjW8xJuii8pJPgXiejmR2RTnYMACAb1HIDQ70b2qZmwnBpkIO1ZTeh1/Ynon4vAfCL4uGUqsoA98XVITrpqeVjwmAuoBZMVgS1g6WL55lOo30Ppc5xm+zcvnHpnPGDa5g1irNcjsAQa079pr4LhyARiKyo/VD0SAw2JHOjXZz3l/WrM+OCp6xZA1BtgGoBlNnwicPxaAPZsWLzBiG8Sr2vZs3iLmnJtGVCKeyHo8qSGerFoxBysCCRR5X31XhrN2B0RnUGiSoXMAUtg2hKhSCa0NHe9Cee/g+nwiFWCkaAFsT2g0HJKtR+zNWfCZAwRGFkqqaUeeUKLXvFes5OUj0x+UHwzk4fR6McudrA0JRsygVuo3HcaIPZqIr8Ao19o5UA9ZcI1QrXrMCBZE6HHJw7LnKurHfKHcAjlemXy03nFdmUWuwBBo9oq60PM7jlKLb7CUYx6Ro4nAZFysQQ3u6Elgp3FXlvxveZsThXIvI+T8JILADuatpWzu5GbFCn3QGbLQG2pGUDzmzgujsQGiSwAJPsijkA86Dih5Hbzm7x5OeOT0tHNOB2Gor4Z0ojy0J33nR4nDdbsliNmIYWdzzNV2SoYjsLJIGupYDUbijd+E0pWGFaOcOFJ3F+BmtBQqmHp9Ze2GXKqoIYkKC1EMdK62zbcu2KOFxCcozZh+ABg3pUckaUK4KHJ5ZvUfrEXHZTuO/Wz9poxejsUXmV703BoXtZqVt0e6AZ8upNarrWml76yyQ4vwqbiAd1vw0qV+1HYR53XdygbMbIIIF9hrx75MMs/ugmtyqfvsMrA0JxCXZFntrXxv9Y746/DfkfrKwjDcH/HYd+mktR1I9/8Ayho6KzO2IvLOvjVGWBFb8Z9dPWtIzYHYw8jf1inCbuPkfqLjoqHHDn+X5fnJM7k37y/P8pJFo5ZxkGyX4N+kI4xfhA+f2mPKO2Q1N7PLZrbjewCop4onnXkfzmWNcrK2bMNnOq6+enzJjODzdQe4n7TCGv3vTWPCwLfZ/wAw8dYQEG5sykjvH3gAhZhmpEBNMQg77J9FBPym3OwwiLHWIta64UAkD+nS9Jzkxm7ali47kUXNDYXpBsU6NnBODmV3IDUNACWINDU7Ab2fKdTg+A4YKr4gdrOtOirl164v3gKGx9NpxQ6m9MpIrqk1rz3+XeZ0+Mxw6KHJDUNAcykgVmAcDJ4Ka1mJK+DpGSre6PQJwaFGbDVnR1CIGw1d0IIAbNVsoKgeB1Ok5PG8CV0YOBpomFkGtHKLvU9pM5nCuU09q6Ak6ID3WbDCdROFJS04ggtYC4lq7HtQ5joarkPHaYpxfJ2yU1wV/wALh7FVQ/z4hzHnsgyjffb6yOMFivs1yEAWpYdZr/C5bnY9DOdbh8rFtyt6kE7ZQwu+zn5wJhAnUqAALUMQzHbq6GzZ5Tdf9MZLpHWfFdBmAfL1gCM2QdhsGjsDY0PbORj4bimbNR1zMrajtBO/jO90QlAnCR3Wh7RcRj7PuoBKahW5mzExEZVdUcKSBaOxDLqpGV1AY89d756zGVM6P55K7PL8NjlbzIrCtQSwraqII2PjNeEgdCydUrlBt1q2sVTURdb3NOL0YHV2HuBuoxQZwToF6hoId9qHdz5z8BipujizQIGYHTlU1lZjGUeR3xGTqugBG4ZQezcMLG49Zt4HEw3br4hQ65TWdFJ0/ESRvy9Zk4bFcNkAJf3KcBaA1IIOxFczyl+GqvnR1QEe6yjUtuVDrue5r8jutmo2N0gj4DhS4egaOQjTzHPuJmYcUD7wQnUnMg8RRUb2TvGxC56i5nC2wFhxQqyBWo3uvPYznu/h21Vb9kUrJuno24nGstAhLHMBTvr7w337Y6cSrLT4SsR+IMymzddW8u/d5TmFv3rBiYbKaPoCDv8AvbeOKLJnUTpQKhRcJKOjZrcsAbAYnsPZUytxxu1VE/oBU+t3MEhPYfKFFbZr/i32DsB2ZjXed4H4pybZ81aWetpy35TGzfv9YoaQWzaeK7V+fz1uKOKI20+X0EyB40Rtmr+MbtkmeoJFbMNwESCSJwD4Rli+cKr2m++RFrVWlmRU7vWKO6AsZGC/MOdeUGS9pSojm+3SVg0WnDreAIJEYywORLRnYqAdsLDvhzj8Q9N5GUbrdd/KRNC5z/8AZqwuOdSrBtV2zdcfpMhMqxH/AH2QbNRu9HV/jXxFOdcyByxIA6rN2X9J1ej1Vx7MlELZaNDOHTVQQQG877p5DAYM1E1VnWqutPWauH4jKQa2IOvdy8DOaad0ejcWr7PQpiOoKYrlFzErszgsGzHQ63etnn4To9Fe29oEwcX/AGyBb5FLF6OjKLIrbU9m85PD9Jo6ZcSzbG1zNlbmAqg9RtfeHgbuVLhAZmwsQqV5Near/CwFNXgPCFWdFKmmv9O1x3S+MmMyPxJWgqhiGy9uYoq1dXp367RzxSYr9V8J8Q5jnpgzCtAo0K6XpZ5zk8TirjKTjVnCWrK60a3BFEhtPcPfMvRaAP1cX2TAMS7EKFA5DW81cvGWKo3m7rlM9twvFYOgdsHMQFJzUew0SoIFjQEzbj8CiLkR8h94HKHGtgZhVVvqCD3zyOJxWG+jv1AfeAUkjkbAzA9t3Oken0QDCvMqqVOYVdi11HIjnObi+jvGceynieCyOHVM7owJsnJf8rhKHI9Y6aeMt4ni1xVQHDZHJ6hVUxQDz5baTLh9Jti5kwsyYlHKVfMrDmCTs1fivlML4joAMZQ9mzYD1RIJtGtjp+I6TVenO0uOGVcTwOERaYgziwyvSMT2quw7KJ9IeFRFVnfFS6pkyuGo7raMFII53LU4TA4izhOcJwCxR7dDW+Vve/TlzmbiOj+IQWUDrV5kp9NddOuBrvQm0+rMVW6KsbIpFIhFcnzdotgDY5HTT6THxDIQMiFSPeOYtZ8OUjYbMeqrX2EG/DQa+g3md7Bo2D2HcTaRzbIYph17AYCe6aAUCWL4fWQYlRvbQEGbuHpJH9qP3X5ySIwQGSSJ5xTHTeSSDJl+Hv5QYm8kkz2ZYixxJJNGWMI6cvGSSPRIVt4+DvJJIuxMTcyv8Pn9pJJGoij7RG5ySTDNIswdh4n7Ts4m6+X0gkihZs4f/jxf6L8xWs5oxCxYsSxytqSSdzzMkkO2dukYX90+E63Sn/Kf6U/9JJJPkI8MsHuN5DyvaYuGY5jruuvfpBJMdM2uUHjtHFaeGk9L0Xjtmw+s2q66nXqc5JJyXB6Y8l/SDluGfMSaZavWtBtc8dxPKSSdYcHL7coymESSTqjiCEySSZEkkkgR/9k=\n",
            "data:image/jpeg;base64,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\n",
            "https://img.freepik.com/free-photo/beautiful-beach-and-sea_74190-6620.jpg\n",
            "https://img.hankyung.com/photo/201705/BD.14016899.1.jpg\n",
            "https://www.sciencetimes.co.kr/wp-content/uploads/2022/05/%EA%B7%B8%EB%A6%BC1%EB%8F%85%EB%8F%84.png\n",
            "https://upload.wikimedia.org/wikipedia/commons/thumb/4/4c/D.M_%EB%B0%94%EB%8B%A4_%EC%82%AC%EC%A7%841.jpg/768px-D.M_%EB%B0%94%EB%8B%A4_%EC%82%AC%EC%A7%841.jpg\n",
            "http://live.lge.co.kr/wp-content/uploads/2015/07/%EB%B0%94%EB%8B%A4.jpg\n",
            "http://www.outdoornews.co.kr/news/photo/202007/31952_90075_2853.jpg\n",
            "https://blog.kakaocdn.net/dn/6CEcF/btqxVzYzsYJ/hW9z8hX5DgILkKPk8AYr70/img.png\n",
            "https://img1.daumcdn.net/thumb/R800x0/?scode=mtistory2&fname=https%3A%2F%2Ft1.daumcdn.net%2Fcfile%2Ftistory%2F994CCD466004E3D208\n",
            "https://i.pinimg.com/474x/96/7e/c5/967ec588907368504f92b95c6a351823--wallpaper-iphone-phone-wallpapers.jpg\n",
            "https://img.freepik.com/premium-photo/lights-on-sea-background-waves_196038-161.jpg\n",
            "https://www.greenpeace.org/static/planet4-korea-stateless/2022/08/aecc768d-gp1sxm6b_medium_res.jpg\n",
            "error\n",
            "https://upload.wikimedia.org/wikipedia/commons/thumb/0/02/Nordsee_Wellen.JPG/1200px-Nordsee_Wellen.JPG\n",
            "https://mblogthumb-phinf.pstatic.net/20140926_264/kordipr_1411709102451qzELa_JPEG/08p%B9%D9%B4%D9%B0%A1%B2%D9%B4%C2%B2%DE.jpg?type=w2\n",
            "https://encrypted-tbn0.gstatic.com/images?q=tbn:ANd9GcRy4qxZUNC-YI71NIt-j5VgMcaFQlQf3VlhNA&usqp=CAU\n",
            "https://t1.daumcdn.net/thumb/R720x0/?fname=http://t1.daumcdn.net/brunch/service/user/jz1/image/2M7yDXbH8UOIpNQw_3n7t866mmM.jpg\n",
            "https://cdn.sideview.co.kr/news/photo/202109/8401_6498_1449.jpg\n",
            "https://i.ytimg.com/vi/HQm3i0fRxHI/maxresdefault.jpg\n",
            "https://gscaltexmediahub.com/wp-content/uploads/2022/04/220420_%EB%B9%84%EC%B9%98%EC%BD%94%EB%B0%8D_2.jpg\n",
            "https://visitbusan.net/uploadImgs/files/cntnts/20191231095147708_oen\n",
            "https://www.korea.kr/newsWeb/resources/attaches/2022.06/16/02f4bc00502b6fc020330b57e4a1a2ab.jpg\n",
            "http://cdn.edujin.co.kr/news/photo/202005/33031_59902_4046.jpg\n",
            "https://a.cdn-hotels.com/gdcs/production127/d256/7199707a-c1e3-4993-a4e7-e3f10af6ab63.jpg\n",
            "https://allways.smotor.com/wp-content/uploads/2019/07/KakaoTalk_20190707_161214071.jpg\n",
            "https://encrypted-tbn0.gstatic.com/images?q=tbn:ANd9GcSFXyFYNxqNvwLNQ2EdmSI0ED549rBkbfxOmg&usqp=CAU\n",
            "https://i.ytimg.com/vi/xo8RxdlrzSE/maxresdefault.jpg\n",
            "https://encrypted-tbn0.gstatic.com/images?q=tbn:ANd9GcTigvWlAle4mtlEct10erTTlMx3ODBUT2U1Uw&usqp=CAU\n",
            "https://encrypted-tbn0.gstatic.com/images?q=tbn:ANd9GcQyWRDa0Hjy4vZos7ker0Qu_-SIXWIU_M_WWA&usqp=CAU\n",
            "https://encrypted-tbn0.gstatic.com/images?q=tbn:ANd9GcQQQ7BHhx9V30PT1Wp8iIiY2LblGp-lAsnEVQ&usqp=CAU\n",
            "https://encrypted-tbn0.gstatic.com/images?q=tbn:ANd9GcRUyop5skEJcPL65jbxMUGb8IQYHaIFtiLDjw&usqp=CAU\n",
            "https://news.samsungdisplay.com/wp-content/uploads/2022/05/%EB%B0%94%EB%8B%A4%EC%8B%9D%EB%AA%A9%EC%9D%BC-%EC%84%AC%EB%84%A4%EC%9D%BC-800x500-1.jpg\n",
            "https://res.klook.com/images/fl_lossy.progressive,q_65/c_fill,w_1200,h_630/w_80,x_15,y_15,g_south_west,l_Klook_water_br_trans_yhcmh3/activities/qb53ceyz60c1ajbmjc5f/%EA%B0%95%EB%A6%89%EB%B0%94%EB%8B%A4%EB%B6%80%EC%B1%84%EA%B8%B8+%EC%95%88%EB%AA%A9%ED%95%AD%20%EC%BB%A4%ED%94%BC%EA%B1%B0%EB%A6%AC+%EC%86%94%ED%96%A5%EC%88%98%EB%AA%A9%EC%9B%90%20%EC%9B%90%EB%8D%B0%EC%9D%B4%20%ED%88%AC%EC%96%B4%20(%EC%84%9C%EC%9A%B8%EC%B6%9C%EB%B0%9C).jpg\n",
            "https://www.greenpeace.org/static/planet4-korea-stateless/2019/08/cbd8831a-gp0stoe38_medium_res-1.jpg\n",
            "error\n",
            "https://as1.ftcdn.net/v2/jpg/02/73/70/82/1000_F_273708208_DfrnPSqr7kdSzFmlcqVTc3YcpbaxSkNV.jpg\n",
            "https://encrypted-tbn0.gstatic.com/images?q=tbn:ANd9GcQ5ntK5JN3xrvLS1ZYawCezWj9SUu4jbLgnWA&usqp=CAU\n",
            "https://encrypted-tbn0.gstatic.com/images?q=tbn:ANd9GcQIl4QCbEOC3JWQF7sEkaLO_TwePNcNvXbDkA&usqp=CAU\n",
            "https://encrypted-tbn0.gstatic.com/images?q=tbn:ANd9GcTap8BIAXtEtCDS1N7gWy7wfzCP0hxQBnD88A&usqp=CAU\n",
            "https://encrypted-tbn0.gstatic.com/images?q=tbn:ANd9GcRu9uX8EdTqouoYNPo_6yzN80etdqSYKsj_Iw&usqp=CAU\n",
            "https://img.sbs.co.kr/newimg/news/20220311/201645921_1280.jpg\n",
            "https://t1.daumcdn.net/cfile/tistory/993F85335A2893EF21\n",
            "https://d2u3dcdbebyaiu.cloudfront.net/uploads/atch_img/121/a272192f12170e2c0507f00925a7af3f_res.jpeg\n",
            "https://w.namu.la/s/cfc738956f9462ce693cbed161432c68daae27cc99e6258e74aef54101b9a8bbd9d9d73c99da25a2cf9eab989d55868fe63f96c39f1e01069bac2dc9682cae433b73f2c271ea91ee8858dbda7f3e2fa6e537149149dfefe4e1e906e5fcdaa19f23a72f6bc8aa93bec4524208f6c36fb7\n",
            "error\n",
            "https://talkimg.imbc.com/TVianUpload/tvian/TViews/image/2022/05/31/53a463fe-95fe-41be-aa5d-2112587c845d.jpg\n",
            "https://encrypted-tbn0.gstatic.com/images?q=tbn:ANd9GcRincGRoUrPYdixz4WxbXc_XQPk2GL4NU8ieQ&usqp=CAU\n",
            "https://encrypted-tbn0.gstatic.com/images?q=tbn:ANd9GcTnBO8ZnGncLlSKihDxEeSMvd3Bik3fUyKJpQ&usqp=CAU\n",
            "http://img.khan.co.kr/news/2020/08/04/l_2020080401000347500024081.jpg\n",
            "https://images.chosun.com/resizer/Ly2qx-AlZ9rwr5BecDDlnPfDAtU=/616x0/smart/cloudfront-ap-northeast-1.images.arcpublishing.com/chosun/LM7AE55PZJHO3GXE5UXSC5KOLI.jpg\n",
            "https://pds.joongang.co.kr/news/component/htmlphoto_mmdata/201501/15/htm_2015011510302c010c011.jpg\n",
            "https://www.sciencetimes.co.kr/wp-content/uploads/2022/05/%EA%B7%B8%EB%A6%BC1%EB%8F%99%ED%95%B4.png\n",
            "https://dimg.donga.com/wps/NEWS/IMAGE/2022/02/04/111583314.1.jpg\n",
            "https://cdn.kado.net/news/photo/202006/1028945_459232_24.jpg\n",
            "https://img.hankyung.com/photo/202205/BF.30168546.1.jpg\n",
            "http://nstayimg4.speedgabia.com/arribada/main/mv01.jpg\n",
            "https://img.siksinhot.com/place/1468483593978113.jpg\n",
            "https://src.hidoc.co.kr/image/lib/2021/12/14/1639469914058_0.jpg\n",
            "https://encrypted-tbn0.gstatic.com/images?q=tbn:ANd9GcR4nuYUIrskCPmwR_eQlVsvG5s_RYX2z8rmQQ&usqp=CAU\n",
            "https://t1.daumcdn.net/cfile/tistory/991B90475FB4E0B905\n",
            "https://encrypted-tbn0.gstatic.com/images?q=tbn:ANd9GcTYqaMJaHrdmn7LZft9FwYrwbPgIrRAfahBdw&usqp=CAU\n",
            "https://mblogthumb-phinf.pstatic.net/MjAxNzA0MjRfMTIy/MDAxNDkzMDAyNzkzOTg1.udJJN2lCPw-NxXRItZAHDPK3XmRVEbQorS9Jv3VAhT4g.guke8khi-VEcAALptoHy4v0txBqqbsTz8KTXmt6pNaYg.PNG.koempr/%EC%9A%B0%EC%A3%BC%EB%B0%94%EB%8B%A4.png?type=w800\n",
            "https://img.freepik.com/premium-photo/calm-sea-ocean-and-blue-sky-background_35766-903.jpg\n",
            "https://file.mk.co.kr/meet/neds/2022/06/image_readtop_2022_483707_16540694875061798.jpg\n",
            "https://en.pimg.jp/080/653/666/1/80653666.jpg\n",
            "https://blog.kakaocdn.net/dn/wfWpM/btq3n9GJm2h/y3N0CrS0uIxothRve5aKCk/img.png\n",
            "https://www.korea.kr/newsWeb/resources/attaches/2022.06/16/93571e05dc39d2e2912facd3e79ef96e.jpg\n",
            "https://www.greenpeace.org/static/planet4-korea-stateless/2021/10/f4330473-gp0stug9s_web_size_with_credit_line.jpg\n",
            "error\n",
            "https://upload.wikimedia.org/wikipedia/commons/thumb/6/61/%28Marie_Claire_Korea%29_%EC%9E%91%EC%9D%80_%EC%95%84%EC%94%A8%EB%93%A4%2C_S.E.S_%283%29.jpg/250px-%28Marie_Claire_Korea%29_%EC%9E%91%EC%9D%80_%EC%95%84%EC%94%A8%EB%93%A4%2C_S.E.S_%283%29.jpg\n",
            "https://www.sciencetimes.co.kr/wp-content/uploads/2021/08/GettyImages-%EC%A1%B0%EC%88%98-480x320.jpg\n",
            "https://m.handmadeo.kr/web/product/big/202201/66da81efe59317bd1e106822e528112a.jpg\n",
            "https://img.hankyung.com/photo/201907/AKR20190704148900055_01_i.jpg\n",
            "https://img1.daumcdn.net/thumb/R1280x0.fjpg/?fname=http://t1.daumcdn.net/brunch/service/user/6hI0/image/35IK9knTSksq0mCXulL3unEaKls\n",
            "https://img.insight.co.kr/static/2021/07/17/700/img_20210717145938_6v43ltmb.webp\n",
            "https://newsimg.hankookilbo.com/cms/articlerelease/2021/06/16/2e51ea6e-84ea-49aa-8faf-bf8190173090.jpg\n",
            "https://encrypted-tbn0.gstatic.com/images?q=tbn:ANd9GcRaIIZJ2QrTZ68R3wVunMtNP0B_9ov55CJWpQ&usqp=CAU\n",
            "https://rimage.gnst.jp/livejapan.com/public/article/detail/a/00/04/a0004995/img/basic/a0004995_main.jpg?20210715165740&q=80&rw=750&rh=536\n",
            "https://file.mk.co.kr/mkde/N0/2020/07/20200703_4544671_1593738199.jpg\n",
            "https://encrypted-tbn0.gstatic.com/images?q=tbn:ANd9GcSNpHekfUjlwFKkWCo75Oe5VafI7XE6ATVXRw&usqp=CAU\n",
            "https://image.bugsm.co.kr/album/images/500/203291/20329128.jpg\n",
            "https://biz.chosun.com/resizer/znGFYKgVCbr_GB1zfCjMc6XBMcQ=/616x0/smart/cloudfront-ap-northeast-1.images.arcpublishing.com/chosunbiz/KLG4C2UKTUJJXXBVZRW7OTGZ7Q.jpg\n",
            "https://www.sciencetimes.co.kr/wp-content/uploads/2022/05/%EA%B7%B8%EB%A6%BC6-%EB%8C%80%ED%92%8D%EA%B0%90-%EB%A1%9C%EA%B3%A0-1.png\n",
            "https://www.seantour.com/newseantour/upload/license/image/20191001/E21F0A80E18E4404859A1C19B97E5A49.jpg\n",
            "https://cdn.univ20.com/wp-content/uploads/2018/09/90ebd6898236551fca8422959fa2a5e0.png\n",
            "https://cdn.imweb.me/thumbnail/20210918/8ac66c2e52eea.jpg\n",
            "https://t1.daumcdn.net/cfile/tistory/2556DA38594B51FE36\n",
            "https://img.kbs.co.kr/kbs/620/news.kbs.co.kr/data/fckeditor/new/image/2022/03/28/320261648445514478.jpg\n",
            "https://encrypted-tbn0.gstatic.com/images?q=tbn:ANd9GcTB6O3O5rtT_ciHmAXB1Fy0XQlriXNU9Y5STHrSrYr88S0R6dVdOH_sZr2Vn6NliIbjllE&usqp=CAU\n",
            "https://dimg.donga.com/wps/NEWS/IMAGE/2022/08/22/115088589.2.jpg\n",
            "error\n",
            "https://encrypted-tbn0.gstatic.com/images?q=tbn:ANd9GcTB6O3O5rtT_ciHmAXB1Fy0XQlriXNU9Y5STHrSrYr88S0R6dVdOH_sZr2Vn6NliIbjllE&usqp=CAU\n",
            "https://encrypted-tbn0.gstatic.com/images?q=tbn:ANd9GcRI8xSyKzSSCj_MDO2SMpHnoZnjHBgjk68R-_3E5TiC0CH0q-LxgU9ciPpA-HUtcbKd8ek&usqp=CAU\n",
            "https://pds.joongang.co.kr/news/component/htmlphoto_mmdata/202111/11/e098dce4-8984-41d0-86a0-4bafebceb5e2.jpg\n",
            "https://image.goodchoice.kr/resize_490x348/affiliate/2022/09/20/15/dcd71503f0b241959df3d073f32704ec.jpg\n",
            "http://image14.hanatour.com/uploads/2020/11/p_55101419.jpg\n",
            "http://d20aeo683mqd6t.cloudfront.net/ko/articles/title_images/000/041/032/medium/sunayamabeach-p58992431.jpeg?2021\n",
            "https://images.pexels.com/photos/1802268/pexels-photo-1802268.jpeg?auto=compress&cs=tinysrgb&dpr=1&w=500\n",
            "error\n",
            "https://i.ytimg.com/vi/LQUoIhczI5Y/maxresdefault.jpg\n",
            "https://encrypted-tbn0.gstatic.com/images?q=tbn:ANd9GcQPvCx-0DjqVOsJSALxEE96SIYFu98PdWU1gy9jBBly7J9FVqGzvDUiz91Het7hGUmpKmk&usqp=CAU\n",
            "https://ak-d.tripcdn.com/images/0100s1200001171hiA667_Z_640_10000_R5.jpg_.webp?proc=autoorient\n",
            "https://economist.co.kr/data/photo/originals/2021/02/24/2105670260_wgzXunGS_1.jpg\n",
            "https://pix10.agoda.net/hotelImages/120/12022801/12022801_20010614470086735245.jpg?ca=9&ce=1&s=1024x768\n",
            "https://blog.kakaocdn.net/dn/9Mmul/btqU4BfgQgd/KPk1w3qogGD4yEbixrmXm0/img.jpg\n",
            "http://img.einet.kr/P202101011/home/images/m_01.jpg\n",
            "https://modo-phinf.pstatic.net/20171004_103/1507113539412j1qrl_JPEG/mosaplyCZ2.jpeg?type=w1100\n",
            "https://t1.daumcdn.net/cfile/tistory/99C0D84C5CE74E940E\n",
            "https://image.kmib.co.kr/online_image/2022/0718/2022071809031270515_1658102596_0017285887.jpg\n",
            "https://encrypted-tbn0.gstatic.com/images?q=tbn:ANd9GcSX3PWRvM7dgiUG0J2Acor3Gp1FebpXeBmVEHcfKesp-N6BgJLvUy1qL5Jzo9e1StUYIQ0&usqp=CAU\n",
            "https://encrypted-tbn0.gstatic.com/images?q=tbn:ANd9GcQcxE8sab7STsGrHWuWtAzOlOxXdZfB3kOUsITvQVRJ8D7fnyuokSQ05NZVKdaBvGqXs7o&usqp=CAU\n",
            "http://health.chosun.com/site/data/img_dir/2019/10/02/2019100201618_0.jpg\n",
            "https://img1.daumcdn.net/thumb/R1280x0.fjpg/?fname=http://t1.daumcdn.net/brunch/service/guest/image/f1OkokRvpQ2uRXFNF-m28krNA4s.JPG\n",
            "https://encrypted-tbn0.gstatic.com/images?q=tbn:ANd9GcRkEV3r88S695DT5zGmGfdQPrYfKNR08SpzlQ&usqp=CAU\n",
            "https://cdn.pixabay.com/photo/2015/09/23/06/19/waves-953003__480.jpg\n",
            "error\n",
            "https://encrypted-tbn0.gstatic.com/images?q=tbn:ANd9GcRTQ2IE7BQUkm2AxnC33mo1koHOa1UA_Cd1bQ&usqp=CAU\n",
            "https://encrypted-tbn0.gstatic.com/images?q=tbn:ANd9GcTE1MMoyn6FZ_JNxl5ZTWqVvuTOgQwmC3HjOQ&usqp=CAU\n",
            "https://encrypted-tbn0.gstatic.com/images?q=tbn:ANd9GcTSu9yvanUI_bClvVY5U9e-vceOCowqRFiPvw&usqp=CAU\n",
            "http://www.water.or.kr/upload/20170414153736.JPG\n",
            "https://www.korea.kr/newsWeb/resources/temp/images/000253/title_top.jpg\n",
            "https://cdn.newspenguin.com/news/photo/202112/10327_30644_4126.jpg\n",
            "http://www.urbanbrush.net/web/wp-content/uploads/edd/2018/01/web-20180113150826027776.png\n",
            "https://a.cdn-hotels.com/gdcs/production58/d1391/82e532bb-de1a-4650-b12d-e2b2289b5ed1.jpg\n",
            "https://encrypted-tbn0.gstatic.com/images?q=tbn:ANd9GcSKqO6EoCd_LxXlqoASfss7sJ1roE4oCBuX9g&usqp=CAU\n",
            "https://encrypted-tbn0.gstatic.com/images?q=tbn:ANd9GcTu23UIa7ZzOGzyLRHtE6PrOb5o7hdQMyEIQg&usqp=CAU\n",
            "https://cdn.esgeconomy.com/news/photo/202109/1158_1548_1923.jpg\n",
            "https://www.visitbusan.net/uploadImgs/files/cntnts/20191229153530528_ttiel\n",
            "https://cdn.huffingtonpost.kr/news/photo/201606/30966_60134.jpeg\n",
            "https://magazine.diviac.com/content/images/2017/06/marsa-alam.jpg\n",
            "https://en.pimg.jp/071/278/936/1/71278936.jpg\n",
            "http://ojsfile.ohmynews.com/STD_IMG_FILE/2017/0721/IE002192262_STD.jpg\n",
            "http://img.einet.kr/P202101011/home/slides/01.jpg?v=1611299338\n",
            "http://www.navy.mil.kr/user/navy/k2board/214214/2021/11/02/t_219996.jpg\n",
            "https://www.worldkorean.net/news/photo/202106/40345_60630_2637.jpg\n",
            "https://encrypted-tbn0.gstatic.com/images?q=tbn:ANd9GcSSUBMgf0SX6gkZ3Pss9qxLb0geC55Neh2XHA&usqp=CAU\n",
            "https://i.ytimg.com/vi/HmNlCU6cy0M/maxresdefault.jpg\n",
            "https://cdn.pixabay.com/photo/2015/09/23/06/23/waves-953009__340.jpg\n",
            "error\n",
            "http://image.yes24.com/mobileblogimage/blog/c/r/crystalhoi/e81aac01-251b-4ea0-9bdd-39f9d071f50a.jpeg\n",
            "https://cdn.travie.com/news/photo/202207/50523_22936_115.jpg\n",
            "https://encrypted-tbn0.gstatic.com/images?q=tbn:ANd9GcTEMqBBO_6wRb-zn9TeKGSOn63WsgABctRyeQ&usqp=CAU\n",
            "https://encrypted-tbn0.gstatic.com/images?q=tbn:ANd9GcTdPa0-3_GerCTDE1oX0gLPOLBaZhJ3g93-Tw&usqp=CAU\n",
            "https://encrypted-tbn0.gstatic.com/images?q=tbn:ANd9GcSqeARNKl_xTRtUZqoZnIY4OR98LkscVpGhMw&usqp=CAU\n",
            "https://image.kmib.co.kr/online_image/2022/0622/2022062220321246652_1655897532_0924251481.jpg\n",
            "https://play-lh.googleusercontent.com/qsivzE_mvDeqwTQDRUet57-IZ_cM5okoEhJ2lCpo6myoYWB4CDdI1S83TaRQ8Q0yMA=w240-h480-rw\n",
            "https://img.marieclairekorea.com/2022/06/mck_62a98ccaebfd5.jpg\n",
            "https://encrypted-tbn0.gstatic.com/images?q=tbn:ANd9GcTyKFhtqRZ1Qrx3802hfAkjTlgCKRUezChGqQ&usqp=CAU\n",
            "https://img.etnews.com/photonews/2211/1589171_20221102143228_660_0001.jpg\n",
            "http://gonylab7.speedgabia.com/yeosubambada/m/main/1.jpg\n",
            "https://c.pxhere.com/photos/fd/16/water_ocean_sea_texture_nature_blue_summer_pattern-673024.jpg!s2\n",
            "error\n",
            "https://cdn.mkhealth.co.kr/news/photo/202207/58812_62022_1253.jpg\n",
            "https://img2.sbs.co.kr/img/sbs_cms/CH/2016/11/15/CH37482754_w666_h968.jpg\n",
            "https://t1.daumcdn.net/thumb/R1280x0/?fname=http://t1.daumcdn.net/brunch/service/user/STq/image/JOIS-I-f9V4S6mZZXw18qJYyiN4\n",
            "http://t1.daumcdn.net/movie/4a16c9e47c5c4426acebd8fa0c3703fd1564122202802\n",
            "https://m.media-amazon.com/images/I/81Qjo7C5GlL._SS500_.jpg\n",
            "https://encrypted-tbn0.gstatic.com/images?q=tbn:ANd9GcRG2Wljw9KAaFBhMDlrxOOItpzrRd2XtXv34g&usqp=CAU\n",
            "https://encrypted-tbn0.gstatic.com/images?q=tbn:ANd9GcTHZj9piPuWSZ_Ld--zSAKEJpu3a8QtzZi2Xg&usqp=CAU\n",
            "https://static.hubzum.zumst.com/hubzum/2022/07/21/08/92471509b0ab4d1e8195bba4e4e558d7.jpg\n",
            "https://cdn.digitaltoday.co.kr/news/photo/202110/421286_411563_634.jpg\n",
            "https://img.khan.co.kr/news/2022/08/03/news-p.v1.20220802.3ee7f284a50744f8a0b5d54abfd35db1_P1.jpg\n",
            "https://cdn.crowdpic.net/detail-thumb/thumb_d_CA225584F97F081FBCBC1782273A42AB.jpg\n",
            "https://as2.ftcdn.net/v2/jpg/03/13/65/61/1000_F_313656128_eoS1CxdPNbN75G3xG29xG1A03kda2NuW.jpg\n",
            "https://www.nifs.go.kr/src/li_kos/images/im_li_kos_natu_01_02_01.jpg\n",
            "https://encrypted-tbn0.gstatic.com/images?q=tbn:ANd9GcTvYAYujERIyw0X56LZ1yt9v8Hm0W3nBsKKUw&usqp=CAU\n",
            "https://encrypted-tbn0.gstatic.com/images?q=tbn:ANd9GcRqHMNaFQazwsfdz9Tqc0gT30kLyXANVYP13g&usqp=CAU\n",
            "https://encrypted-tbn0.gstatic.com/images?q=tbn:ANd9GcQ2CX_o4D8CvjIKgiL6iJOy1OvEl3ySwkVklQ&usqp=CAU\n",
            "https://encrypted-tbn0.gstatic.com/images?q=tbn:ANd9GcTqxj1Sjx9hnKMBx3RYfCwC7vMZQpKJT0MCNA&usqp=CAU\n",
            "https://pbs.twimg.com/media/FinR5DMaEAAQ3zR?format=jpg&name=large\n",
            "https://dimg.donga.com/wps/NEWS/IMAGE/2021/11/30/110532613.1.jpg\n",
            "https://spnimage.edaily.co.kr/images/Photo/files/NP/S/2021/12/PS21122800050.jpg\n",
            "https://encrypted-tbn0.gstatic.com/images?q=tbn:ANd9GcQnxLMcb6feVr9XCXr6isXDRbjRHWI1W3x9wA&usqp=CAU\n",
            "https://static.wikia.nocookie.net/pokemon/images/c/c3/%EB%B0%94%EB%8B%A4%EA%B7%B8%EB%8B%A4_%EA%B3%B5%EC%8B%9D_%EC%9D%BC%EB%9F%AC%EC%8A%A4%ED%8A%B8.png/revision/latest/scale-to-width-down/250?cb=20220929140014&path-prefix=ko\n",
            "https://r1.community.samsung.com/t5/image/serverpage/image-id/1513266i12C437854817E97D/image-size/large?v=v2&px=999\n",
            "https://newsroom-prd-data.s3.ap-northeast-2.amazonaws.com/wp-content/uploads/2017/07/T%EB%A7%B5_%EB%8D%B0%EC%9D%B4%ED%84%B0_%EB%B0%94%EB%8B%A4%EC%B9%B4%ED%8E%98_%EB%AA%85%EC%86%8C_1.png\n",
            "https://i.ytimg.com/vi/_Q7Vv2llZdE/maxresdefault.jpg\n",
            "https://us.123rf.com/450wm/isansky/isansky1511/isansky151100006/47425658-%EB%B0%94%EB%8B%A4-%ED%95%B4%EB%B3%80-%EB%B0%94%EB%8B%A4%EC%9E%85%EB%8B%88%EB%8B%A4-%EC%98%A4%ED%82%A4%EB%82%98%EC%99%80-%EC%9D%BC%EB%B3%B8-%EC%95%84%EC%8B%9C%EC%95%84-.jpg\n",
            "https://image.dongascience.com/Photo/2021/08/cb252b2eb53cbce208b06d50b75e5979.jpg\n",
            "https://en.pimg.jp/057/117/941/1/57117941.jpg\n",
            "http://imagescdn.gettyimagesbank.com/500/202108/jv12381780.jpg\n",
            "https://www.mof.go.kr/upload/article/17/201611221588a797d0c69.png\n",
            "https://thumb.mt.co.kr/06/2022/09/2022090208152113646_1.jpg/dims/optimize/\n",
            "https://img.seoul.co.kr/img/upload/2021/07/20/SSI_20210720163510_O2.jpg\n",
            "https://ak-d.tripcdn.com/images/100e1g000001hl7403005_Z_640_10000_R5.jpg_.webp?proc=autoorient\n",
            "https://encrypted-tbn0.gstatic.com/images?q=tbn:ANd9GcRu5etNlq3cXmowbg6kLRa-okNYWM30-q3Fcw&usqp=CAU\n",
            "http://www.newsje.com/news/photo/202005/219479_216038_3557.jpg\n",
            "https://www.dgram.co.kr/wp-content/uploads/2020/09/%E1%84%8C%E1%85%A5%E1%86%BC%E1%84%92%E1%85%AA%E1%86%AB%E1%84%8C%E1%85%A5%E1%86%BC-%E1%84%8C%E1%85%A1%E1%86%A8%E1%84%80%E1%85%A1-%E1%84%80%E1%85%A7%E1%86%BC%E1%84%8C%E1%85%AE-%E1%84%8B%E1%85%B3%E1%86%B8%E1%84%8E%E1%85%A5%E1%86%AB%E1%84%92%E1%85%A1%E1%86%BC-%E1%84%8C%E1%85%AE%E1%84%89%E1%85%A1%E1%86%BC%E1%84%8C%E1%85%A5%E1%86%AF%E1%84%85%E1%85%B51-%E1%84%90%E1%85%B3%E1%86%A8%E1%84%89%E1%85%A5%E1%86%BC%E1%84%8B%E1%85%B5%E1%84%86%E1%85%B5%E1%84%8C%E1%85%B5_S.jpg\n",
            "https://encrypted-tbn0.gstatic.com/images?q=tbn:ANd9GcRvFhK2Uu4o9g5fmyfpOfzrLohBFuSiwCzt1g&usqp=CAU\n",
            "https://encrypted-tbn0.gstatic.com/images?q=tbn:ANd9GcRz19cCjYzkaSZOWWmZv2csCSyJnDujg9iDpA&usqp=CAU\n",
            "https://t1.daumcdn.net/cfile/tistory/997F31435D2D431D25\n",
            "http://www.ekoreanews.co.kr/news/photo/202211/63568_73713_3343.jpg\n",
            "https://a.cdn-hotels.com/gdcs/production189/d714/2c6115c1-182b-4244-af22-3df48215b86b.jpg\n",
            "https://t1.daumcdn.net/thumb/R1280x0/?fname=http://t1.daumcdn.net/brunch/service/user/STq/image/bPl2n12bVrxCnT1huVu3WGdxTeU\n",
            "https://img.insight.co.kr/static/2017/06/29/700/m2j197p01x34m51153k3.jpg\n",
            "https://img.etnews.com/news/article/2022/01/28/cms_temp_article_28095858652807.jpg\n",
            "https://img.lovepik.com/photo/20211123/small/lovepik-the-sea-picture_500795820.jpg\n",
            "error\n",
            "https://t1.daumcdn.net/thumb/R720x0.fjpg/?fname=http://t1.daumcdn.net/brunch/service/user/6pbO/image/0v9oP3aRBUEkxbsu5sNCj8Y1Pfg.jpg\n",
            "https://t1.daumcdn.net/cfile/tistory/999919485D27E1E903\n",
            "https://news.samsungdisplay.com/wp-content/uploads/2022/05/%EB%B0%94%EB%8B%A4%EC%8B%9D%EB%AA%A9%EC%9D%BC-%EB%8F%84%EB%B9%84%EB%9D%BC-1200x630-1-1024x538.jpg\n",
            "https://dthezntil550i.cloudfront.net/1r/latest/1r2104091907376820020014215/1280_960/b25a836d-ffe2-4e83-aedf-5d8f7d70623f.png\n",
            "https://ichef.bbci.co.uk/news/1024/branded_korean/DFCB/production/_104119275_gettyimages-513750122.jpg\n",
            "https://flexible.img.hani.co.kr/flexible/normal/970/647/imgdb/original/2021/0807/1116283170822337.JPG\n",
            "http://t1.daumcdn.net/movie/5665927a27974c268a43a69d8f09ec9d1568968763079\n"
          ]
        }
      ],
      "source": [
        "# 5. 이미지 찾아서 원본 파일로 저장하기\n",
        "images = driver.find_elements(By.CSS_SELECTOR,\".rg_i.Q4LuWd\")\n",
        "count = 1\n",
        "\n",
        "for image in images:\n",
        "    if count>200:\n",
        "      break\n",
        "    try:\n",
        "      image.click()\n",
        "      time.sleep(2)\n",
        "      #imgurl = driver.find_element(By.XPATH,'/html/body/div[2]/c-wiz/div[3]/div[2]/div[3]/div/div/div[3]/div[2]/c-wiz/div/div[1]/div[1]/div[2]/div[1]/a/img').get_attribute(\"src\")\n",
        "      imgurl = driver.find_element(By.CSS_SELECTOR,'#Sva75c > div > div > div.dFMRD > div.pxAole > div.tvh9oe.BIB1wf > c-wiz > div.nIWXKc.JgfpDb.cZEg1e > div.OUZ5W > div.zjoqD > div.qdnLaf.isv-id.b0vFpe > div > a > img').get_attribute(\"src\")\n",
        "      print(imgurl)\n",
        "      # goodde_image 라는 폴더 구글 드라이브 제일 루트 위치에 만들어야 해요!!\n",
        "      urllib.request.urlretrieve(imgurl, \"/content/drive/MyDrive/water/\" + \"바다다\" + \"_\" + str(count) + \".jpg\") \n",
        "      count+=1\n",
        "    except:\n",
        "      print(\"error\")\n",
        "      pass\n",
        "    \n",
        "\n",
        "driver.close()"
      ]
    }
  ],
  "metadata": {
    "colab": {
      "provenance": []
    },
    "kernelspec": {
      "display_name": "Python 3",
      "name": "python3"
    },
    "language_info": {
      "name": "python"
    }
  },
  "nbformat": 4,
  "nbformat_minor": 0
}